{
 "cells": [
  {
   "cell_type": "markdown",
   "id": "e5d81975-7965-4e6d-89a0-c5eb4bb2cf97",
   "metadata": {},
   "source": [
    "## Overview\n",
    "\n",
    "In this notebook, I will be implementing ***multiple linear regression*** from stratch. \n",
    "\n",
    "We will then move onto modifying the algorithm to work for logistic regression. \n",
    "\n",
    "Finally, we will use regularisation to handle overfitting. \n"
   ]
  },
  {
   "cell_type": "markdown",
   "id": "0d23c158-5fe3-40bc-a18b-a2f0b51e14bc",
   "metadata": {},
   "source": [
    "### Importing necessary libraries"
   ]
  },
  {
   "cell_type": "code",
   "execution_count": 103,
   "id": "e5090d16-31ad-44c5-a623-4585eb484be0",
   "metadata": {},
   "outputs": [],
   "source": [
    "import numpy as np\n",
    "import pandas as pd\n",
    "import pickle\n",
    "import matplotlib.pyplot as plt"
   ]
  },
  {
   "cell_type": "code",
   "execution_count": 104,
   "id": "0f7ac474-a212-4d9e-acda-69976e745fd6",
   "metadata": {},
   "outputs": [],
   "source": [
    "df = pd.read_csv(\"../datasets/Student_Performance.csv\")\n",
    "df.drop(columns=[\"Extracurricular Activities\"], inplace=True)"
   ]
  },
  {
   "cell_type": "markdown",
   "id": "d7ca209b-6bb1-4e6a-a23f-9ddcdd604730",
   "metadata": {},
   "source": [
    "### No NaNs"
   ]
  },
  {
   "cell_type": "code",
   "execution_count": 105,
   "id": "6ec0db7e-0174-440f-acda-2b518bf044b3",
   "metadata": {},
   "outputs": [
    {
     "data": {
      "text/plain": [
       "Hours Studied                       0\n",
       "Previous Scores                     0\n",
       "Sleep Hours                         0\n",
       "Sample Question Papers Practiced    0\n",
       "Performance Index                   0\n",
       "dtype: int64"
      ]
     },
     "execution_count": 105,
     "metadata": {},
     "output_type": "execute_result"
    }
   ],
   "source": [
    "df.isna().sum()"
   ]
  },
  {
   "cell_type": "markdown",
   "id": "a8e57c4b-d762-448f-b4f0-70afdcef8cda",
   "metadata": {},
   "source": [
    "### Loading Training & Test Data.\n",
    "\n",
    "Link to dataset --> https://kaggle.com/datasets/nikhil7280/student-performance-multiple-linear-regression\n"
   ]
  },
  {
   "cell_type": "code",
   "execution_count": 106,
   "id": "bc287161-0456-4095-b906-f3bf1cbf16aa",
   "metadata": {},
   "outputs": [
    {
     "data": {
      "text/plain": [
       "Index(['Hours Studied', 'Previous Scores', 'Sleep Hours',\n",
       "       'Sample Question Papers Practiced', 'Performance Index'],\n",
       "      dtype='object')"
      ]
     },
     "execution_count": 106,
     "metadata": {},
     "output_type": "execute_result"
    }
   ],
   "source": [
    "df.columns"
   ]
  },
  {
   "cell_type": "markdown",
   "id": "9930f2f1-99e7-4cc3-99c6-b70493c5630f",
   "metadata": {},
   "source": [
    "## Splitting the dataset into X & y"
   ]
  },
  {
   "cell_type": "code",
   "execution_count": 107,
   "id": "ec492c6a-66cd-46db-8495-d978b5b55f39",
   "metadata": {},
   "outputs": [],
   "source": [
    "X = df[['Hours Studied', 'Previous Scores', 'Sleep Hours',\n",
    "       'Sample Question Papers Practiced',]]"
   ]
  },
  {
   "cell_type": "code",
   "execution_count": 108,
   "id": "44de73d9-f7fd-4a76-9ad7-aef853ed8577",
   "metadata": {},
   "outputs": [],
   "source": [
    "y = df[['Performance Index']]"
   ]
  },
  {
   "cell_type": "markdown",
   "id": "da1a9a6b-76ae-4b96-ba12-f8374f1dab11",
   "metadata": {},
   "source": [
    "## Train Test Split"
   ]
  },
  {
   "cell_type": "code",
   "execution_count": 109,
   "id": "0a59085d-dc51-4486-8141-f0ca89b58102",
   "metadata": {},
   "outputs": [],
   "source": [
    "from sklearn.model_selection import train_test_split"
   ]
  },
  {
   "cell_type": "code",
   "execution_count": 110,
   "id": "3006a7b7-8864-4c40-8b22-4d2ed686c811",
   "metadata": {},
   "outputs": [],
   "source": [
    "X_train, X_test = train_test_split(X, test_size=0.2, random_state=42)\n",
    "y_train, y_test = train_test_split(y, test_size=0.2, random_state=42)"
   ]
  },
  {
   "cell_type": "markdown",
   "id": "34511906-65e8-4917-95da-d43e6cbf6000",
   "metadata": {},
   "source": [
    "### Standarisation using Z-Score normalisation\n",
    "\n",
    "Standardization ensures features are on the same scale, reducing computational complexity. This process is crucial for models that involve gradient-based optimization. \n",
    "\n",
    "Gradient descent converges faster when features are scaled because the contours of the cost function become more circular rather than elongated. \n",
    "\n",
    "Without standardization, features with larger ranges might dominate the optimization process.\n",
    "\n",
    "**After z-score normalization, all features will have a mean of 0 and standard deviation of 1.**\n",
    "\n",
    "To implement z-score normalization, we will adjust our input feature based on the formula below:\n",
    "\n",
    "$ x_j^{(i)} = \\frac{ x_j^{(i)} - \\mu_j}{\\sigma_j}$\n",
    "\n",
    "\n",
    "where, *j* selects a feature or a column in the **X** matrix. $\\mu_j$ is the mean of all the values for freature(j) and $\\sigma_j$ is the standard deviation of feature(j):\n",
    "\n",
    "$\\mu_j = \\frac{1}{m} \\sum_{i=0}^{m-1}x_j^{(i)}$\n",
    "\n",
    "$\\sigma_j^2 = \\frac{1}{m}\\sum_{i=0}^{m-1} (x_j^{(i)} - \\mu_j)^2$\n",
    "\n",
    "Since, we only have one feature, the formula reduces to:\n",
    "\n",
    "$ x{(i)} = \\frac{x{(i)} - \\mu }{\\sigma}$"
   ]
  },
  {
   "cell_type": "code",
   "execution_count": 111,
   "id": "320eb04c-a454-4b78-898e-47e6e2e45fd3",
   "metadata": {},
   "outputs": [],
   "source": [
    "def normalize_feature(X):\n",
    "    \"\"\"\n",
    "    Normalizes the features in the dataset using z-score standardization.\n",
    "\n",
    "    Parameters:\n",
    "    X (numpy.ndarray): A ndarray where each row is a data sample and each column is a feature.\n",
    "\n",
    "    Returns:\n",
    "    X_norm (numpy.ndaary): The normalized dataset with zero mean and unit variance for each feature.\n",
    "    \"\"\"\n",
    "\n",
    "\n",
    "    # Calculate the mean of each feature (column-wise)\n",
    "    mu = np.mean(X, axis=0)\n",
    "\n",
    "    # Calculate the standard deviation of each feature (column-wise)\n",
    "    sigma = np.std(X, axis=0)\n",
    "\n",
    "    # Apply z-score normalization: (X - mean) / standard deviation\n",
    "    X_norm = (X - mu) / sigma\n",
    "\n",
    "    # Return the normalized features\n",
    "    return X_norm"
   ]
  },
  {
   "cell_type": "code",
   "execution_count": 112,
   "id": "3a1bff0d-65e9-48f6-a7ce-1dfd7bd1b514",
   "metadata": {},
   "outputs": [],
   "source": [
    "X_train = normalize_feature(X=X_train)"
   ]
  },
  {
   "cell_type": "code",
   "execution_count": 113,
   "id": "b8941ca2-c930-4e81-b4e3-b2d5c3d2a802",
   "metadata": {},
   "outputs": [
    {
     "data": {
      "text/html": [
       "<div>\n",
       "<style scoped>\n",
       "    .dataframe tbody tr th:only-of-type {\n",
       "        vertical-align: middle;\n",
       "    }\n",
       "\n",
       "    .dataframe tbody tr th {\n",
       "        vertical-align: top;\n",
       "    }\n",
       "\n",
       "    .dataframe thead th {\n",
       "        text-align: right;\n",
       "    }\n",
       "</style>\n",
       "<table border=\"1\" class=\"dataframe\">\n",
       "  <thead>\n",
       "    <tr style=\"text-align: right;\">\n",
       "      <th></th>\n",
       "      <th>Hours Studied</th>\n",
       "      <th>Previous Scores</th>\n",
       "      <th>Sleep Hours</th>\n",
       "      <th>Sample Question Papers Practiced</th>\n",
       "    </tr>\n",
       "  </thead>\n",
       "  <tbody>\n",
       "    <tr>\n",
       "      <th>9254</th>\n",
       "      <td>0.006455</td>\n",
       "      <td>-1.183844</td>\n",
       "      <td>0.269888</td>\n",
       "      <td>0.134041</td>\n",
       "    </tr>\n",
       "    <tr>\n",
       "      <th>1561</th>\n",
       "      <td>-1.149747</td>\n",
       "      <td>-1.241506</td>\n",
       "      <td>0.269888</td>\n",
       "      <td>0.483562</td>\n",
       "    </tr>\n",
       "    <tr>\n",
       "      <th>1670</th>\n",
       "      <td>-1.149747</td>\n",
       "      <td>0.661318</td>\n",
       "      <td>0.269888</td>\n",
       "      <td>-0.914520</td>\n",
       "    </tr>\n",
       "    <tr>\n",
       "      <th>6087</th>\n",
       "      <td>-1.149747</td>\n",
       "      <td>-1.356828</td>\n",
       "      <td>-0.318906</td>\n",
       "      <td>-1.264041</td>\n",
       "    </tr>\n",
       "    <tr>\n",
       "      <th>6669</th>\n",
       "      <td>1.162658</td>\n",
       "      <td>-1.299167</td>\n",
       "      <td>1.447477</td>\n",
       "      <td>-1.613561</td>\n",
       "    </tr>\n",
       "    <tr>\n",
       "      <th>...</th>\n",
       "      <td>...</td>\n",
       "      <td>...</td>\n",
       "      <td>...</td>\n",
       "      <td>...</td>\n",
       "    </tr>\n",
       "    <tr>\n",
       "      <th>5734</th>\n",
       "      <td>1.162658</td>\n",
       "      <td>-1.126183</td>\n",
       "      <td>-0.318906</td>\n",
       "      <td>0.483562</td>\n",
       "    </tr>\n",
       "    <tr>\n",
       "      <th>5191</th>\n",
       "      <td>-0.378946</td>\n",
       "      <td>-0.088279</td>\n",
       "      <td>1.447477</td>\n",
       "      <td>-0.565000</td>\n",
       "    </tr>\n",
       "    <tr>\n",
       "      <th>5390</th>\n",
       "      <td>1.548059</td>\n",
       "      <td>-1.241506</td>\n",
       "      <td>0.269888</td>\n",
       "      <td>0.483562</td>\n",
       "    </tr>\n",
       "    <tr>\n",
       "      <th>860</th>\n",
       "      <td>-1.535148</td>\n",
       "      <td>-1.299167</td>\n",
       "      <td>1.447477</td>\n",
       "      <td>-1.613561</td>\n",
       "    </tr>\n",
       "    <tr>\n",
       "      <th>7270</th>\n",
       "      <td>-1.149747</td>\n",
       "      <td>-1.356828</td>\n",
       "      <td>-0.318906</td>\n",
       "      <td>0.483562</td>\n",
       "    </tr>\n",
       "  </tbody>\n",
       "</table>\n",
       "<p>8000 rows × 4 columns</p>\n",
       "</div>"
      ],
      "text/plain": [
       "      Hours Studied  Previous Scores  Sleep Hours  \\\n",
       "9254       0.006455        -1.183844     0.269888   \n",
       "1561      -1.149747        -1.241506     0.269888   \n",
       "1670      -1.149747         0.661318     0.269888   \n",
       "6087      -1.149747        -1.356828    -0.318906   \n",
       "6669       1.162658        -1.299167     1.447477   \n",
       "...             ...              ...          ...   \n",
       "5734       1.162658        -1.126183    -0.318906   \n",
       "5191      -0.378946        -0.088279     1.447477   \n",
       "5390       1.548059        -1.241506     0.269888   \n",
       "860       -1.535148        -1.299167     1.447477   \n",
       "7270      -1.149747        -1.356828    -0.318906   \n",
       "\n",
       "      Sample Question Papers Practiced  \n",
       "9254                          0.134041  \n",
       "1561                          0.483562  \n",
       "1670                         -0.914520  \n",
       "6087                         -1.264041  \n",
       "6669                         -1.613561  \n",
       "...                                ...  \n",
       "5734                          0.483562  \n",
       "5191                         -0.565000  \n",
       "5390                          0.483562  \n",
       "860                          -1.613561  \n",
       "7270                          0.483562  \n",
       "\n",
       "[8000 rows x 4 columns]"
      ]
     },
     "execution_count": 113,
     "metadata": {},
     "output_type": "execute_result"
    }
   ],
   "source": [
    "X_train"
   ]
  },
  {
   "cell_type": "code",
   "execution_count": 114,
   "id": "b8d9a0e2-da65-4836-9334-887913a1c8e9",
   "metadata": {},
   "outputs": [],
   "source": [
    "X_test = normalize_feature(X=X_test)"
   ]
  },
  {
   "cell_type": "markdown",
   "id": "c32d6970-4938-4711-a891-05bf677fa0dc",
   "metadata": {},
   "source": [
    "### Reshaping input feature ndarry suitable for vectorisation"
   ]
  },
  {
   "cell_type": "code",
   "execution_count": 115,
   "id": "417bca1d-f2a1-4031-bc3c-5dca3ae75554",
   "metadata": {},
   "outputs": [],
   "source": [
    "X_train = X_train.to_numpy()\n",
    "X_test = X_test.to_numpy()"
   ]
  },
  {
   "cell_type": "code",
   "execution_count": 116,
   "id": "843622bf-cb45-434c-a674-f6e2878d230f",
   "metadata": {},
   "outputs": [],
   "source": [
    "y_test  = y_test.to_numpy()\n",
    "y_train = y_train.to_numpy()"
   ]
  },
  {
   "cell_type": "code",
   "execution_count": null,
   "id": "aa12eeb9-73a6-4127-bfa7-deb7103686dc",
   "metadata": {},
   "outputs": [],
   "source": []
  },
  {
   "cell_type": "code",
   "execution_count": 125,
   "id": "2f1c859e-5ccc-4bf3-8ee1-f0dd949cf744",
   "metadata": {},
   "outputs": [],
   "source": [
    "y_test = y_test.ravel()\n"
   ]
  },
  {
   "cell_type": "markdown",
   "id": "aa1e6df0-a343-4ad6-acbf-a688a19c9d85",
   "metadata": {},
   "source": [
    "## Linear Regression with one variable Intuition\n",
    "\n",
    "The Goal is to implement the model $f_{w,b}$ for linear regression with one variable\n",
    "\n",
    "We will use $(x^{(i)}, y^{(i)})$ to denote the $i^{(th)}$ training example. \n",
    "\n",
    "Since, python is zero indexed\n",
    "$x^{(0)}, y^{(0)}$ is (24.0, 21.549452) and $x^{(1)}, y^{(1)}$ is (50.0,\t47.464463)\n",
    "\n"
   ]
  },
  {
   "cell_type": "markdown",
   "id": "e56e709e-e511-4365-84a9-96d8c51cb042",
   "metadata": {},
   "source": [
    "The model function for linear regression is represented as\n",
    "\n",
    "$$f_{w,b}(x^{(i)}) = wx^{(i)} + b$$\n",
    "\n",
    "Here,  \n",
    "\n",
    "$f_{w,b}(x^{(i)})$ represents the model,   $w$ is the weight parameter,  $b$ is the bias parameter, and   $x^{(i)}$ is the input feature."
   ]
  },
  {
   "cell_type": "markdown",
   "id": "ed062baf-f0b1-4dd1-b693-a26bfaae22c4",
   "metadata": {},
   "source": [
    "## How are we going to find the value of $ w, b $ such that  $\\hat{y}^{(i)}$ is close to $y ^{(i)}$ for all $(x^{(i)}, y^{(i)})$\n",
    "\n",
    "where, $\\hat y ^{(i)}$ is the output of our model $f_{w,b}(x^{(i)}) = wx^{(i)} + b$. Also, reffered to as prediction.\n",
    "\n",
    "**Even if we estimate the values for $w$ and $b$, we need a way to see how close our predictions are to the actual output** "
   ]
  },
  {
   "cell_type": "markdown",
   "id": "b3038308-92c8-430e-8855-d8cb20f7a4f3",
   "metadata": {},
   "source": [
    "To see how close our prediction $\\hat{y}^{(i)}$ is to $y ^{(i)}$. We are going to use **Cost Function.**\n",
    "\n",
    "Also called, squared error cost function.\n",
    "\n",
    "This is the most common cost function used for regression models.\n",
    "\n",
    "$$ J(w,b) = \\frac{1}{2m} \\sum_{i=1}^{m} (\\hat{y}^{(i)} - y^{(i)})^2$$ \n",
    "\n",
    "where, \n",
    "\n",
    "\n",
    "$m$ = number of training examples \n",
    "\n",
    "Eventually, we want to use the values of $w$ and $ b$ such that our cost function is minimised."
   ]
  },
  {
   "cell_type": "markdown",
   "id": "c29b935a-21c4-4834-b098-90898b1efa89",
   "metadata": {},
   "source": [
    "**Model**: \n",
    "\n",
    "$f_{w,b}(x^{(i)}) = wx^{(i)} + b$\n",
    "\n",
    "**Parameters:** \n",
    "\n",
    "$ w, b $\n",
    "\n",
    "**Cost Function**\n",
    "\n",
    "$ J(w,b) = \\frac{1}{2m} \\sum_{i=1}^{m} (\\hat{y}^{(i)} - y^{(i)})^2$ \n",
    "\n",
    "\n",
    "**Goal**\n",
    "\n",
    "$minimize$  $J(w,b)$"
   ]
  },
  {
   "cell_type": "markdown",
   "id": "a988090a-c788-4a32-b9b0-19fda3009e98",
   "metadata": {},
   "source": [
    "#### We will use **Gradient Descent** to minimise our cost function. \n",
    "\n",
    "**Top Level Decomposition of Gradient Descent Algorithm**\n",
    "\n",
    "\n",
    "- Start with some random value of $w$, $b$. Commonly we set $w=0$ and $b=0$.\n",
    "\n",
    "- Keep changing $w$, $b$ to reduce $J(w,b)$.\n",
    "\n",
    "- Until we setle at or near minimum.\n"
   ]
  },
  {
   "cell_type": "markdown",
   "id": "3fddb4a3-2518-4c79-b848-9b89beffab87",
   "metadata": {},
   "source": [
    "## Gradient Descent Algorithm"
   ]
  },
  {
   "cell_type": "markdown",
   "id": "07088b53-165a-4c85-9ab8-4e85c469ab0c",
   "metadata": {},
   "source": [
    "\n",
    "\n",
    "$$\\begin{align*} \\text{repeat}&\\text{ until convergence:} \\; \\lbrace \\newline\n",
    "\\;  w &= w -  \\alpha \\frac{\\partial J(w,b)}{\\partial w} \\tag{3}  \\; \\newline \n",
    " b &= b -  \\alpha \\frac{\\partial J(w,b)}{\\partial b}  \\newline \\rbrace\n",
    "\\end{align*}$$\n",
    "where, parameters $w$, $b$ are updated simultaneously.  "
   ]
  },
  {
   "cell_type": "markdown",
   "id": "98fc888d-2752-442e-8e07-d4d55bdf8d06",
   "metadata": {},
   "source": [
    "The gradient(the partial deravitive part) is defined as:\n",
    "$$\n",
    "\\begin{align}\n",
    "\\frac{\\partial J(w,b)}{\\partial w}  &= \\frac{1}{m} \\sum\\limits_{i = 0}^{m-1} (f_{w,b}(x^{(i)}) - y^{(i)})x^{(i)} \\\\\n",
    "  \\frac{\\partial J(w,b)}{\\partial b}  &= \\frac{1}{m} \\sum\\limits_{i = 0}^{m-1} (f_{w,b}(x^{(i)}) - y^{(i)}) \\\\\n",
    "\\end{align}\n",
    "$$\n",
    "\n",
    "Here *simultaniously* means that you calculate the partial derivatives for all the parameters before updating any of the parameters."
   ]
  },
  {
   "cell_type": "markdown",
   "id": "4ea11bb3-a707-4d57-b1c3-984bf733f10c",
   "metadata": {},
   "source": [
    "### Final Linear Regression Algorithm with Gradient Descent\n",
    "\n",
    "repeat until convergence {\n",
    "\n",
    "$ w = w - \\alpha \\times \\frac{1}{m} \\sum_{i=1}^{m} (\\hat{y}^{(i)} - y^{(i)}) x^{(i)}   $\n",
    "\n",
    "\n",
    "\n",
    "$ b = b - \\alpha \\times \\frac{1}{m} \\sum_{i=1}^{m} (\\hat{y}^{(i)} - y^{(i)})  $\n",
    "\n",
    "}\n"
   ]
  },
  {
   "cell_type": "markdown",
   "id": "1dcbe83f-6e31-415c-b67f-b9a93a789d66",
   "metadata": {},
   "source": [
    "## Model Implementation"
   ]
  },
  {
   "cell_type": "code",
   "execution_count": 168,
   "id": "45ef2f2e-50ad-4360-b998-d2b94dae0372",
   "metadata": {},
   "outputs": [],
   "source": [
    "import numpy as np\n",
    "import pickle\n",
    "import matplotlib.pyplot as plt\n",
    "\n",
    "class SimpleLinearRegression:\n",
    "    \"\"\"\n",
    "    A simple implementation of Linear Regression using Gradient Descent.\n",
    "    \"\"\"\n",
    "    \n",
    "    def __init__(self, alpha: float, until_convergence: float = 1e-6):\n",
    "        \"\"\"\n",
    "        Initializes the linear regression model with learning rate and convergence tolerance.\n",
    "\n",
    "        Parameters:\n",
    "            alpha (float): The learning rate for gradient descent.\n",
    "            until_convergence (float, optional): The tolerance for convergence. Default is 1e-6.\n",
    "        \"\"\"\n",
    "        self.learning_rate = alpha\n",
    "        self.until_convergence = until_convergence\n",
    "        self.w = None  # Weight parameters (initialized later)\n",
    "        self.b = None  # Bias parameter (initialized later)\n",
    "        \n",
    "\n",
    "    def _initialize_parameters(self, n_features: int):\n",
    "        \"\"\"\n",
    "        Initializes the model's weights and bias with small random values and zero.\n",
    "\n",
    "        Parameters:\n",
    "            n_features (int): The number of features in the dataset.\n",
    "        \"\"\"\n",
    "        # Initialize weights with small random values to avoid slow convergence\n",
    "        self.w = np.random.randn(n_features) * 0.01\n",
    "        # Initialize bias to zero\n",
    "        self.b = 0\n",
    "\n",
    "    def predict_values(self, X: np.ndarray) -> np.ndarray:\n",
    "        \"\"\"\n",
    "        Makes predictions using the trained model.\n",
    "\n",
    "        Parameters:\n",
    "            X (np.ndarray): The input features.\n",
    "\n",
    "        Returns:\n",
    "            np.ndarray: The predicted values based on the model.\n",
    "        \"\"\"\n",
    "        return np.dot(X, self.w) + self.b\n",
    "\n",
    "    def calculate_cost(self, predictions: np.ndarray) -> float:\n",
    "        \"\"\"\n",
    "        Computes the cost (mean squared error) between predictions and true values.\n",
    "\n",
    "        Parameters:\n",
    "            predictions (np.ndarray): The predicted values.\n",
    "\n",
    "        Returns:\n",
    "            float: The computed cost (MSE).\n",
    "        \"\"\"\n",
    "        m = len(predictions)\n",
    "        \n",
    "  \n",
    "        # Compute the mean squared error cost\n",
    "        cost = np.sum(np.square(predictions - self.y)) / (2 * m)\n",
    "        return cost\n",
    "\n",
    "    def calculate_gradients(self, predictions: np.ndarray) -> None:\n",
    "        \"\"\"\n",
    "        Computes the gradients of the cost function with respect to weights and bias.\n",
    "\n",
    "        Parameters:\n",
    "            predictions (np.ndarray): The predicted values.\n",
    "        \"\"\"\n",
    "        m = len(predictions)\n",
    "\n",
    "        # rehaped predictions for 1d array to (m,1) 2d array to simplify calculation\n",
    "        predictions = predictions.reshape(m,1)\n",
    "        err = predictions - self.y\n",
    "\n",
    "        err = err.reshape(1,8000)\n",
    "        # Compute gradients for weights and bias\n",
    "        dw = np.dot(err, self.X) / m\n",
    "        self.dw = dw[0]\n",
    "        self.db = np.sum(predictions - self.y) / m \n",
    "\n",
    "    def plot_cost_history(self, cost_history: list) -> None:\n",
    "        \"\"\"\n",
    "        Plots the cost function history to visualize the convergence of gradient descent.\n",
    "\n",
    "        Parameters:\n",
    "            cost_history (list): The list of cost values for each iteration.\n",
    "        \"\"\"\n",
    "        fig, ax = plt.subplots(1, 1, figsize=(6, 5))\n",
    "        ax.plot([x for x in range(len(cost_history))], cost_history)\n",
    "        ax.set_xlabel('Number of Iterations')\n",
    "        ax.set_ylabel('Cost')\n",
    "        ax.set_title('Cost vs. Iterations')\n",
    "\n",
    "    def train(self, X: np.ndarray, y: np.ndarray, num_of_iter: int) -> None:\n",
    "        \"\"\"\n",
    "        Trains the linear regression model using gradient descent.\n",
    "\n",
    "        Parameters:\n",
    "            X (np.ndarray): The input feature matrix.\n",
    "            y (np.ndarray): The true target values.\n",
    "            num_of_iter (int): The number of iterations for gradient descent.\n",
    "        \"\"\"\n",
    "        self.X = X\n",
    "        self.y = y\n",
    "        # Initialize parameters (weights and bias)\n",
    "        self._initialize_parameters(n_features=X.shape[1])\n",
    "        cost_history = []\n",
    "\n",
    "        for i in range(num_of_iter):\n",
    "            # Make predictions\n",
    "            predictions = self.predict_values(X)\n",
    "            # Compute the cost (mean squared error)\n",
    "            cost = self.calculate_cost(predictions)\n",
    "            # Compute gradients for weights and bias\n",
    "            self.calculate_gradients(predictions)\n",
    "            # Update weights and bias using gradient descent\n",
    "            self.w -= self.learning_rate * self.dw\n",
    "            self.b -= self.learning_rate * self.db\n",
    "            cost_history.append(cost)\n",
    "\n",
    "            # Print cost every 100 iterations\n",
    "            if i % 100 == 0:\n",
    "                print(f'Iteration: {i}, Cost: {cost}')\n",
    "\n",
    "            # Check for convergence\n",
    "            if i > 0 and abs(cost_history[-1] - cost_history[-2]) < self.until_convergence:\n",
    "                print(f'Converged after {i} iterations.')\n",
    "                break\n",
    "                \n",
    "        # Plot the cost history to visualize convergence\n",
    "        self.plot_cost_history(cost_history)\n",
    "\n",
    "    def save(self, filename: str) -> None:\n",
    "        \"\"\"\n",
    "        Saves the trained model's parameters (weights and bias) to a file using pickle.\n",
    "\n",
    "        Parameters:\n",
    "            filename (str): The name of the file to save the model to.\n",
    "                Raises an error if None is provided.\n",
    "        \"\"\"\n",
    "        if filename is None:\n",
    "            raise ValueError(\"Filename must be provided to save the model.\")\n",
    "\n",
    "        model_data = {\n",
    "            'alpha': self.learning_rate,\n",
    "            'until_convergence': self.until_convergence,\n",
    "            'w': self.w,  # Use correct variable 'w' instead of 'W'\n",
    "            'b': self.b   # Use correct variable 'b' instead of 'B'\n",
    "        }\n",
    "\n",
    "        try:\n",
    "            # Save model data to file\n",
    "            with open(filename, 'wb') as file:\n",
    "                pickle.dump(model_data, file)\n",
    "        except Exception as e:\n",
    "            print(f\"An error occurred while saving the model: {e}\")\n",
    "\n",
    "    @classmethod\n",
    "    def load(cls, filename: str) -> 'SimpleLinearRegression':\n",
    "        \"\"\"\n",
    "        Loads a trained model from a file using pickle.\n",
    "\n",
    "        Parameters:\n",
    "            filename (str): The name of the file to load the model from.\n",
    "\n",
    "        Returns:\n",
    "            SimpleLinearRegression: An instance of the SimpleLinearRegression class with loaded parameters.\n",
    "        \"\"\"\n",
    "        # Load model data from file\n",
    "        model_data = cls._load_model_data(filename)\n",
    "        \n",
    "        # Create a new model instance and initialize it with the loaded parameters\n",
    "        loaded_model = cls(model_data['alpha'], model_data['until_convergence'])\n",
    "        loaded_model.w = model_data['w']\n",
    "        loaded_model.b = model_data['b']\n",
    "\n",
    "        return loaded_model\n",
    "\n",
    "    @staticmethod\n",
    "    def _load_model_data(filename: str) -> dict:\n",
    "        \"\"\"\n",
    "        Helper method to load model data from a file.\n",
    "\n",
    "        Parameters:\n",
    "            filename (str): The name of the file to load the model from.\n",
    "\n",
    "        Returns:\n",
    "            dict: A dictionary containing the model parameters.\n",
    "        \"\"\"\n",
    "        try:\n",
    "            with open(filename, 'rb') as file:\n",
    "                return pickle.load(file)\n",
    "        except FileNotFoundError:\n",
    "            print(f\"File '{filename}' not found.\")\n",
    "            raise\n",
    "        except pickle.UnpicklingError:\n",
    "            print(f\"Error occurred while unpickling the file '{filename}'.\")\n",
    "            raise\n",
    "        except Exception as e:\n",
    "            print(f\"An error occurred while loading the model: {e}\")\n",
    "            raise"
   ]
  },
  {
   "cell_type": "code",
   "execution_count": 169,
   "id": "56e43f2f-9c30-4d2b-953d-de94a45b9bd3",
   "metadata": {},
   "outputs": [],
   "source": [
    "# Initialise the Class\n",
    "lr = SimpleLinearRegression(0.01)"
   ]
  },
  {
   "cell_type": "code",
   "execution_count": 170,
   "id": "353180c5-233a-4ffc-a133-b940d2713298",
   "metadata": {},
   "outputs": [
    {
     "name": "stdout",
     "output_type": "stream",
     "text": [
      "Iteration: 0, Cost: 13712141.002062531\n",
      "Iteration: 100, Cost: 3695958.3290506583\n",
      "Iteration: 200, Cost: 2783161.5405449457\n",
      "Iteration: 300, Cost: 2819531.963348174\n",
      "Iteration: 400, Cost: 2882973.6706625787\n",
      "Iteration: 500, Cost: 2913083.425609703\n",
      "Iteration: 600, Cost: 2925090.8179777986\n",
      "Iteration: 700, Cost: 2929641.977971967\n",
      "Iteration: 800, Cost: 2931337.8680403214\n",
      "Iteration: 900, Cost: 2931966.1168451253\n",
      "Iteration: 1000, Cost: 2932198.4081286197\n",
      "Iteration: 1100, Cost: 2932284.253243434\n",
      "Iteration: 1200, Cost: 2932315.9782592515\n",
      "Iteration: 1300, Cost: 2932327.7048560334\n"
     ]
    },
    {
     "ename": "KeyboardInterrupt",
     "evalue": "",
     "output_type": "error",
     "traceback": [
      "\u001b[0;31m---------------------------------------------------------------------------\u001b[0m",
      "\u001b[0;31mKeyboardInterrupt\u001b[0m                         Traceback (most recent call last)",
      "Cell \u001b[0;32mIn[170], line 2\u001b[0m\n\u001b[1;32m      1\u001b[0m \u001b[38;5;66;03m# Training the model\u001b[39;00m\n\u001b[0;32m----> 2\u001b[0m lr\u001b[38;5;241m.\u001b[39mtrain(X_train, y_train, \u001b[38;5;241m10000\u001b[39m)\n",
      "Cell \u001b[0;32mIn[168], line 116\u001b[0m, in \u001b[0;36mSimpleLinearRegression.train\u001b[0;34m(self, X, y, num_of_iter)\u001b[0m\n\u001b[1;32m    114\u001b[0m predictions \u001b[38;5;241m=\u001b[39m \u001b[38;5;28mself\u001b[39m\u001b[38;5;241m.\u001b[39mpredict_values(X)\n\u001b[1;32m    115\u001b[0m \u001b[38;5;66;03m# Compute the cost (mean squared error)\u001b[39;00m\n\u001b[0;32m--> 116\u001b[0m cost \u001b[38;5;241m=\u001b[39m \u001b[38;5;28mself\u001b[39m\u001b[38;5;241m.\u001b[39mcalculate_cost(predictions)\n\u001b[1;32m    117\u001b[0m \u001b[38;5;66;03m# Compute gradients for weights and bias\u001b[39;00m\n\u001b[1;32m    118\u001b[0m \u001b[38;5;28mself\u001b[39m\u001b[38;5;241m.\u001b[39mcalculate_gradients(predictions)\n",
      "Cell \u001b[0;32mIn[168], line 62\u001b[0m, in \u001b[0;36mSimpleLinearRegression.calculate_cost\u001b[0;34m(self, predictions)\u001b[0m\n\u001b[1;32m     58\u001b[0m m \u001b[38;5;241m=\u001b[39m \u001b[38;5;28mlen\u001b[39m(predictions)\n\u001b[1;32m     61\u001b[0m \u001b[38;5;66;03m# Compute the mean squared error cost\u001b[39;00m\n\u001b[0;32m---> 62\u001b[0m cost \u001b[38;5;241m=\u001b[39m np\u001b[38;5;241m.\u001b[39msum(np\u001b[38;5;241m.\u001b[39msquare(predictions \u001b[38;5;241m-\u001b[39m \u001b[38;5;28mself\u001b[39m\u001b[38;5;241m.\u001b[39my)) \u001b[38;5;241m/\u001b[39m (\u001b[38;5;241m2\u001b[39m \u001b[38;5;241m*\u001b[39m m)\n\u001b[1;32m     63\u001b[0m \u001b[38;5;28;01mreturn\u001b[39;00m cost\n",
      "\u001b[0;31mKeyboardInterrupt\u001b[0m: "
     ]
    }
   ],
   "source": [
    "# Training the model\n",
    "lr.train(X_train, y_train, 10000)"
   ]
  },
  {
   "cell_type": "code",
   "execution_count": 18,
   "id": "e9fd8a82-eddd-4888-bfcc-fc31212d76a4",
   "metadata": {},
   "outputs": [],
   "source": [
    "lr.save(filename=\"slr_one_variable.pkl\")"
   ]
  },
  {
   "cell_type": "code",
   "execution_count": 19,
   "id": "ad7e9b42-89ad-47ac-a62d-32b8ac867bff",
   "metadata": {},
   "outputs": [],
   "source": [
    "model = SimpleLinearRegression.load(\"slr_one_variable.pkl\")"
   ]
  },
  {
   "cell_type": "code",
   "execution_count": null,
   "id": "ba4d73ad-8f86-4771-8e48-f7dcd01a880b",
   "metadata": {},
   "outputs": [],
   "source": []
  },
  {
   "cell_type": "markdown",
   "id": "30638055-a273-4374-89a3-e8368eb92d5b",
   "metadata": {},
   "source": [
    "## Model Evaluation"
   ]
  },
  {
   "cell_type": "markdown",
   "id": "bef55f01-0213-450a-ad22-5494d15527fd",
   "metadata": {},
   "source": [
    "The EvaluateModel class below includes three methods that allow us to calculate key performance metrics for evaluating our model: Mean Squared Error (MSE), Root Mean Squared Error (RMSE), and R-squared (R²).\n",
    "\n",
    "#### Mean Squared Error (MSE)\n",
    "\n",
    "The Mean Squared Error (MSE) measures the average squared difference between the actual and predicted values. It is defined by the following formula:\n",
    "\n",
    "\n",
    "$$ MSE = \\frac{1}{m} \\sum_{i=1}^{n} (\\hat{y}^{(i)} - y^{(i)})^2$$\n",
    "\n",
    "\n",
    "#### Root Mean Squared Error (RMSE)\n",
    "\n",
    "The Root Mean Squared Error (RMSE) is the square root of the Mean Squared Error (MSE). It provides a measure of the error in the same units as the target values, which makes it more interpretable. The formula for RMSE is:\n",
    "\n",
    "\n",
    "$$ RMSE = \\sqrt{MSE} = \\sqrt{\\frac{1}{m} \\sum_{i=1}^{n} (\\hat{y}^{(i)} - y^{(i)})^2} $$\n",
    "\n",
    "\n",
    "#### R-squared (R²)\n",
    "\n",
    "The R-squared (R²) value indicates how well the model’s predictions match the actual values. It is defined as:\n",
    "\n",
    "\n",
    "$$R^2 = 1- \\frac{RSS}{TSS} =1 - \\frac{\\sum_{i=1}^{m} (\\hat{y}^{(i)} - y^{(i)})^2}{\\sum_{i=1}^{m} ({y}^{(i)} - \\bar y)^2}$$\n",
    "\n",
    "\n",
    "Where:\n",
    "\n",
    "$\\bar{y}$  is the mean of the actual values.\n",
    "\n",
    "The numerator is the Residual Sum of Squares (RSS).\n",
    "\n",
    "The denominator is the Total Sum of Squares (TSS)."
   ]
  },
  {
   "cell_type": "code",
   "execution_count": 20,
   "id": "d98b6be0-d944-458c-a3dc-787e2bec7db2",
   "metadata": {},
   "outputs": [],
   "source": [
    "class EvaluateModel:\n",
    "    \"\"\"\n",
    "    A class to evaluate the performance of a model using different metrics.\n",
    "    \"\"\"\n",
    "\n",
    "    @staticmethod\n",
    "    def mse(y_actual, y_prediction):\n",
    "        \"\"\"\n",
    "        Calculate the Mean Squared Error (MSE) between the actual and predicted values.\n",
    "\n",
    "        Args:\n",
    "        y_actual (array-like): The actual values.\n",
    "        y_prediction (array-like): The predicted values from the model.\n",
    "\n",
    "        Returns:\n",
    "        float: The MSE value.\n",
    "        \n",
    "        Raises:\n",
    "        AssertionError: If the lengths of y_actual and y_prediction do not match.\n",
    "        ValueError: If input arrays are empty or not valid (non-numeric or non-array).\n",
    "        \"\"\"\n",
    "        # Check if inputs are valid (non-empty and numpy arrays)\n",
    "        if not isinstance(y_actual, (np.ndarray, list)) or not isinstance(y_prediction, (np.ndarray, list)):\n",
    "            raise ValueError(\"Inputs should be of type list or numpy array.\")\n",
    "        if len(y_actual) == 0 or len(y_prediction) == 0:\n",
    "            raise ValueError(\"Input arrays cannot be empty.\")\n",
    "        \n",
    "        # Ensure that both the actual and predicted values have the same length\n",
    "        if len(y_actual) != len(y_prediction):\n",
    "            raise AssertionError(\"Please ensure they are of the same length\")\n",
    "        \n",
    "        # Calculate and return the Mean Squared Error\n",
    "        return np.mean(np.square(np.array(y_actual) - np.array(y_prediction)))\n",
    "\n",
    "    @staticmethod\n",
    "    def rmse(y_actual, y_prediction):\n",
    "        \"\"\"\n",
    "        Calculate the Root Mean Squared Error (RMSE) between the actual and predicted values.\n",
    "        RMSE is simply the square root of the MSE.\n",
    "\n",
    "        Args:\n",
    "        y_actual (array-like): The actual values.\n",
    "        y_prediction (array-like): The predicted values from the model.\n",
    "\n",
    "        Returns:\n",
    "        float: The RMSE value.\n",
    "\n",
    "        Raises:\n",
    "        ValueError: If inputs are empty or not valid (non-numeric or non-array).\n",
    "        \"\"\"\n",
    "        # Calculate the Mean Squared Error first\n",
    "        mse = EvaluateModel.mse(y_actual, y_prediction)\n",
    "        \n",
    "        # Return the square root of MSE to get RMSE\n",
    "        return np.sqrt(mse)\n",
    "\n",
    "    @staticmethod\n",
    "    def rsquared(y_actual, y_prediction):\n",
    "        \"\"\"\n",
    "        Calculate the R-squared (R²) value, which indicates how well the model's predictions match the actual values.\n",
    "\n",
    "        Args:\n",
    "        y_actual (array-like): The actual values.\n",
    "        y_prediction (array-like): The predicted values from the model.\n",
    "\n",
    "        Returns:\n",
    "        float: The R-squared value (ranging from 0 to 1). \n",
    "               A higher value indicates better model performance.\n",
    "\n",
    "        Raises:\n",
    "        ValueError: If inputs are empty or not valid (non-numeric or non-array).\n",
    "        \"\"\"\n",
    "        # Check if inputs are valid (non-empty and numpy arrays)\n",
    "        if not isinstance(y_actual, (np.ndarray, list)) or not isinstance(y_prediction, (np.ndarray, list)):\n",
    "            raise ValueError(\"Inputs should be of type list or numpy array.\")\n",
    "        if len(y_actual) == 0 or len(y_prediction) == 0:\n",
    "            raise ValueError(\"Input arrays cannot be empty.\")\n",
    "        \n",
    "        # Total Sum of Squares (TSS) is the total variance in the actual values\n",
    "        tss = np.sum(np.square(np.array(y_actual) - np.mean(y_actual)))\n",
    "        \n",
    "        # Residual Sum of Squares (RSS) is the variance between the actual and predicted values\n",
    "        rss = np.sum(np.square(np.array(y_actual) - np.array(y_prediction)))\n",
    "        \n",
    "        # R-squared is 1 minus the ratio of RSS to TSS\n",
    "        r2 = 1 - (rss / tss)\n",
    "        \n",
    "        return r2"
   ]
  },
  {
   "cell_type": "code",
   "execution_count": 21,
   "id": "f451bcab-5956-4926-890d-a7bfe9e547f4",
   "metadata": {},
   "outputs": [],
   "source": [
    "y_predict = model.predict_values(X_test)"
   ]
  },
  {
   "cell_type": "code",
   "execution_count": 22,
   "id": "5c2780a0-5490-4db5-8c6b-77760db2cc56",
   "metadata": {},
   "outputs": [],
   "source": [
    "mse_output = EvaluateModel.mse(y_test, y_predict)\n",
    "rmse_output = EvaluateModel.rmse(y_test, y_predict)\n",
    "r2_output = EvaluateModel.rsquared(y_test, y_predict)"
   ]
  },
  {
   "cell_type": "code",
   "execution_count": 23,
   "id": "416f1c1c-4df9-483b-a420-03c6ff40a272",
   "metadata": {},
   "outputs": [
    {
     "name": "stdout",
     "output_type": "stream",
     "text": [
      "Mean Squared Error (MSE): 10.793376781738742\n",
      "Root Mean Squared Error (RMSE): 3.2853274999212396\n",
      "R-squared (Coefficient of Determination): 0.9871863429817639\n"
     ]
    }
   ],
   "source": [
    "print(f\"Mean Squared Error (MSE): {mse_output}\")\n",
    "print(f\"Root Mean Squared Error (RMSE): {rmse_output}\")\n",
    "print(f\"R-squared (Coefficient of Determination): {r2_output}\")"
   ]
  },
  {
   "cell_type": "markdown",
   "id": "b295ec5c-cdf8-458d-b70e-5dbc57d33432",
   "metadata": {},
   "source": [
    "## Plotting the Straight Line Fit"
   ]
  },
  {
   "cell_type": "code",
   "execution_count": 24,
   "id": "5fe4aea5-b315-45ee-af7a-d241b5bc15d5",
   "metadata": {},
   "outputs": [
    {
     "data": {
      "text/plain": [
       "Text(0.5, 1.0, 'Straight Line fit to Data')"
      ]
     },
     "execution_count": 24,
     "metadata": {},
     "output_type": "execute_result"
    },
    {
     "data": {
      "image/png": "[encoded data removed]",
      "text/plain": [
       "<Figure size 600x500 with 1 Axes>"
      ]
     },
     "metadata": {},
     "output_type": "display_data"
    }
   ],
   "source": [
    "fig, ax = plt.subplots(1,1, figsize=(6,5))\n",
    "ax.scatter(X_test, y_test)\n",
    "ax.plot(X_test, y_predict, color=\"Red\")\n",
    "ax.set_xlabel('X(Input Feature)')\n",
    "ax.set_ylabel('Y')\n",
    "\n",
    "ax.set_title('Straight Line fit to Data')"
   ]
  },
  {
   "cell_type": "markdown",
   "id": "0446872b-d082-4384-afd6-0960ba7fe02a",
   "metadata": {},
   "source": [
    "### Thank You"
   ]
  },
  {
   "cell_type": "code",
   "execution_count": null,
   "id": "bdf47c0f-f88e-4fe9-a17e-c8c11854b8ce",
   "metadata": {},
   "outputs": [],
   "source": []
  },
  {
   "cell_type": "code",
   "execution_count": null,
   "id": "88ec1deb-6fb1-4b1f-a328-dde6574b3427",
   "metadata": {},
   "outputs": [],
   "source": []
  },
  {
   "cell_type": "code",
   "execution_count": null,
   "id": "c5ad5431-feb0-46a7-ae27-1ece86f168b5",
   "metadata": {},
   "outputs": [],
   "source": []
  },
  {
   "cell_type": "code",
   "execution_count": null,
   "id": "d79416df-d6c1-493b-9b0d-16d7025cc986",
   "metadata": {},
   "outputs": [],
   "source": []
  },
  {
   "cell_type": "code",
   "execution_count": null,
   "id": "ab655ca2-dbea-4efc-9937-80251148d1e1",
   "metadata": {},
   "outputs": [],
   "source": []
  },
  {
   "cell_type": "code",
   "execution_count": null,
   "id": "7cb2657e-7027-41c1-849e-954c49cc9ca0",
   "metadata": {},
   "outputs": [],
   "source": []
  }
 ],
 "metadata": {
  "kernelspec": {
   "display_name": "Python 3 (ipykernel)",
   "language": "python",
   "name": "python3"
  },
  "language_info": {
   "codemirror_mode": {
    "name": "ipython",
    "version": 3
   },
   "file_extension": ".py",
   "mimetype": "text/x-python",
   "name": "python",
   "nbconvert_exporter": "python",
   "pygments_lexer": "ipython3",
   "version": "3.12.7"
  }
 },
 "nbformat": 4,
 "nbformat_minor": 5
}
