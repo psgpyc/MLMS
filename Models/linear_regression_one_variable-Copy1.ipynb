{
 "cells": [
  {
   "cell_type": "markdown",
   "id": "e5d81975-7965-4e6d-89a0-c5eb4bb2cf97",
   "metadata": {},
   "source": [
    "## Overview\n",
    "\n",
    "In this notebook, I will be implementing ***simple linear regression*** from stratch. \n",
    "\n",
    "We will then move onto modifying the algorithm to work for multiple feratures. \n",
    "\n",
    "Finally, we will use regularisation to handle overfitting. \n"
   ]
  },
  {
   "cell_type": "markdown",
   "id": "0d23c158-5fe3-40bc-a18b-a2f0b51e14bc",
   "metadata": {},
   "source": [
    "### Importing necessary libraries"
   ]
  },
  {
   "cell_type": "code",
   "execution_count": 1,
   "id": "e5090d16-31ad-44c5-a623-4585eb484be0",
   "metadata": {},
   "outputs": [],
   "source": [
    "import numpy as np\n",
    "import pandas as pd\n",
    "import pickle\n",
    "import matplotlib.pyplot as plt"
   ]
  },
  {
   "cell_type": "code",
   "execution_count": null,
   "id": "0f7ac474-a212-4d9e-acda-69976e745fd6",
   "metadata": {},
   "outputs": [],
   "source": []
  },
  {
   "cell_type": "markdown",
   "id": "a8e57c4b-d762-448f-b4f0-70afdcef8cda",
   "metadata": {},
   "source": [
    "### Loading Training & Test Data.\n",
    "\n",
    "Link to dataset --> https://www.kaggle.com/datasets/andonians/random-linear-regression\n"
   ]
  },
  {
   "cell_type": "code",
   "execution_count": 2,
   "id": "837d337a-f5dc-4d48-9d61-f152506174bd",
   "metadata": {},
   "outputs": [],
   "source": [
    "train_data = pd.read_csv(\"./datasets/dataset_train.csv\")\n",
    "test_data = pd.read_csv(\"./datasets/dataset_test.csv\")"
   ]
  },
  {
   "cell_type": "code",
   "execution_count": 3,
   "id": "44d7e1ac-721b-43bc-ad75-ea4339b0eb89",
   "metadata": {},
   "outputs": [
    {
     "data": {
      "text/html": [
       "<div>\n",
       "<style scoped>\n",
       "    .dataframe tbody tr th:only-of-type {\n",
       "        vertical-align: middle;\n",
       "    }\n",
       "\n",
       "    .dataframe tbody tr th {\n",
       "        vertical-align: top;\n",
       "    }\n",
       "\n",
       "    .dataframe thead th {\n",
       "        text-align: right;\n",
       "    }\n",
       "</style>\n",
       "<table border=\"1\" class=\"dataframe\">\n",
       "  <thead>\n",
       "    <tr style=\"text-align: right;\">\n",
       "      <th></th>\n",
       "      <th>x</th>\n",
       "      <th>y</th>\n",
       "    </tr>\n",
       "  </thead>\n",
       "  <tbody>\n",
       "    <tr>\n",
       "      <th>0</th>\n",
       "      <td>24.0</td>\n",
       "      <td>21.549452</td>\n",
       "    </tr>\n",
       "    <tr>\n",
       "      <th>1</th>\n",
       "      <td>50.0</td>\n",
       "      <td>47.464463</td>\n",
       "    </tr>\n",
       "    <tr>\n",
       "      <th>2</th>\n",
       "      <td>15.0</td>\n",
       "      <td>17.218656</td>\n",
       "    </tr>\n",
       "    <tr>\n",
       "      <th>3</th>\n",
       "      <td>38.0</td>\n",
       "      <td>36.586398</td>\n",
       "    </tr>\n",
       "    <tr>\n",
       "      <th>4</th>\n",
       "      <td>87.0</td>\n",
       "      <td>87.288984</td>\n",
       "    </tr>\n",
       "  </tbody>\n",
       "</table>\n",
       "</div>"
      ],
      "text/plain": [
       "      x          y\n",
       "0  24.0  21.549452\n",
       "1  50.0  47.464463\n",
       "2  15.0  17.218656\n",
       "3  38.0  36.586398\n",
       "4  87.0  87.288984"
      ]
     },
     "execution_count": 3,
     "metadata": {},
     "output_type": "execute_result"
    }
   ],
   "source": [
    "train_data.head()"
   ]
  },
  {
   "cell_type": "code",
   "execution_count": 4,
   "id": "f1100ebc-46c5-4911-b02d-04ccaddf5db0",
   "metadata": {},
   "outputs": [
    {
     "data": {
      "text/html": [
       "<div>\n",
       "<style scoped>\n",
       "    .dataframe tbody tr th:only-of-type {\n",
       "        vertical-align: middle;\n",
       "    }\n",
       "\n",
       "    .dataframe tbody tr th {\n",
       "        vertical-align: top;\n",
       "    }\n",
       "\n",
       "    .dataframe thead th {\n",
       "        text-align: right;\n",
       "    }\n",
       "</style>\n",
       "<table border=\"1\" class=\"dataframe\">\n",
       "  <thead>\n",
       "    <tr style=\"text-align: right;\">\n",
       "      <th></th>\n",
       "      <th>x</th>\n",
       "      <th>y</th>\n",
       "    </tr>\n",
       "  </thead>\n",
       "  <tbody>\n",
       "    <tr>\n",
       "      <th>0</th>\n",
       "      <td>77</td>\n",
       "      <td>79.775152</td>\n",
       "    </tr>\n",
       "    <tr>\n",
       "      <th>1</th>\n",
       "      <td>21</td>\n",
       "      <td>23.177279</td>\n",
       "    </tr>\n",
       "    <tr>\n",
       "      <th>2</th>\n",
       "      <td>22</td>\n",
       "      <td>25.609262</td>\n",
       "    </tr>\n",
       "    <tr>\n",
       "      <th>3</th>\n",
       "      <td>20</td>\n",
       "      <td>17.857388</td>\n",
       "    </tr>\n",
       "    <tr>\n",
       "      <th>4</th>\n",
       "      <td>36</td>\n",
       "      <td>41.849864</td>\n",
       "    </tr>\n",
       "  </tbody>\n",
       "</table>\n",
       "</div>"
      ],
      "text/plain": [
       "    x          y\n",
       "0  77  79.775152\n",
       "1  21  23.177279\n",
       "2  22  25.609262\n",
       "3  20  17.857388\n",
       "4  36  41.849864"
      ]
     },
     "execution_count": 4,
     "metadata": {},
     "output_type": "execute_result"
    }
   ],
   "source": [
    "test_data.head()"
   ]
  },
  {
   "cell_type": "markdown",
   "id": "e8d6306f-75c0-4348-98c2-878e2fdfe065",
   "metadata": {},
   "source": [
    "### Treating Null Values"
   ]
  },
  {
   "cell_type": "code",
   "execution_count": 5,
   "id": "5978ac58-7a36-4c22-950b-8ffc31c01eac",
   "metadata": {},
   "outputs": [
    {
     "data": {
      "text/plain": [
       "x    0\n",
       "y    1\n",
       "dtype: int64"
      ]
     },
     "execution_count": 5,
     "metadata": {},
     "output_type": "execute_result"
    }
   ],
   "source": [
    "train_data.isna().sum()"
   ]
  },
  {
   "cell_type": "code",
   "execution_count": 6,
   "id": "e9f2464d-976c-4082-b574-c0f665b4c228",
   "metadata": {},
   "outputs": [],
   "source": [
    "# dropping the one null value in train dataset\n",
    "\n",
    "train_data.dropna(inplace=True)"
   ]
  },
  {
   "cell_type": "code",
   "execution_count": 7,
   "id": "607acf93-f65f-4370-a51d-c839d943f37b",
   "metadata": {},
   "outputs": [
    {
     "data": {
      "text/plain": [
       "x    0\n",
       "y    0\n",
       "dtype: int64"
      ]
     },
     "execution_count": 7,
     "metadata": {},
     "output_type": "execute_result"
    }
   ],
   "source": [
    "# test dataset doesnot contain any null values\n",
    "\n",
    "test_data.isna().sum()"
   ]
  },
  {
   "cell_type": "code",
   "execution_count": 8,
   "id": "e7e38adf-d66f-4d1b-900e-7447326894e0",
   "metadata": {},
   "outputs": [
    {
     "data": {
      "text/plain": [
       "x    0\n",
       "y    0\n",
       "dtype: int64"
      ]
     },
     "execution_count": 8,
     "metadata": {},
     "output_type": "execute_result"
    }
   ],
   "source": [
    "train_data.isna().sum()"
   ]
  },
  {
   "cell_type": "markdown",
   "id": "503a57c5-0e4f-4e2f-a88d-8f7fab0928d9",
   "metadata": {},
   "source": [
    "### Plotting the train dataset to see, if the relationship is linear "
   ]
  },
  {
   "cell_type": "code",
   "execution_count": 9,
   "id": "59311e5e-7fcc-4383-b3c1-20f3f70ce990",
   "metadata": {},
   "outputs": [
    {
     "data": {
      "text/plain": [
       "<matplotlib.collections.PathCollection at 0x11f182480>"
      ]
     },
     "execution_count": 9,
     "metadata": {},
     "output_type": "execute_result"
    },
    {
     "data": {
      "image/png": "[encoded data removed]",
      "text/plain": [
       "<Figure size 800x600 with 1 Axes>"
      ]
     },
     "metadata": {},
     "output_type": "display_data"
    }
   ],
   "source": [
    "fig, ax = plt.subplots(1,1, figsize=(8,6))\n",
    "ax.set_xlabel(\"Input Feature(X)\")\n",
    "ax.set_ylabel(\"Target Variable(y)\")\n",
    "\n",
    "ax.set_title(\"Scatter plot of the X & Y\")\n",
    "\n",
    "ax.scatter(train_data[\"x\"], train_data[\"y\"], s=15 ,color=\"black\")"
   ]
  },
  {
   "cell_type": "markdown",
   "id": "8e429508-4f50-453a-a271-c11a0f36ed80",
   "metadata": {},
   "source": [
    "The scatter plot shows the relationship between the input feature and target variable is linear. It makes sense to use the ***linear regression*** algorithm to make future predictions."
   ]
  },
  {
   "cell_type": "code",
   "execution_count": 10,
   "id": "60fcd506-59b8-46a1-bca7-6a27c3f09793",
   "metadata": {},
   "outputs": [],
   "source": [
    "X_train, y_train = train_data.to_numpy()[:,0], train_data.to_numpy()[:, 1]\n",
    "X_test, y_test = test_data.to_numpy()[:,0], test_data.to_numpy()[:,1]"
   ]
  },
  {
   "cell_type": "code",
   "execution_count": null,
   "id": "b9caa320-871e-4b9b-be22-e6d96775addb",
   "metadata": {},
   "outputs": [],
   "source": []
  },
  {
   "cell_type": "markdown",
   "id": "34511906-65e8-4917-95da-d43e6cbf6000",
   "metadata": {},
   "source": [
    "### Standarisation using Z-Score normalisation\n",
    "\n",
    "Standardization ensures features are on the same scale, reducing computational complexity. This process is crucial for models that involve gradient-based optimization. \n",
    "\n",
    "Gradient descent converges faster when features are scaled because the contours of the cost function become more circular rather than elongated. \n",
    "\n",
    "Without standardization, features with larger ranges might dominate the optimization process.\n",
    "\n",
    "**After z-score normalization, all features will have a mean of 0 and standard deviation of 1.**\n",
    "\n",
    "To implement z-score normalization, we will adjust our input feature based on the formula below:\n",
    "\n",
    "$ x_j^{(i)} = \\frac{ x_j^{(i)} - \\mu_j}{\\sigma_j}$\n",
    "\n",
    "\n",
    "where, *j* selects a feature or a column in the **X** matrix. $\\mu_j$ is the mean of all the values for freature(j) and $\\sigma_j$ is the standard deviation of feature(j):\n",
    "\n",
    "$\\mu_j = \\frac{1}{m} \\sum_{i=0}^{m-1}x_j^{(i)}$\n",
    "\n",
    "$\\sigma_j^2 = \\frac{1}{m}\\sum_{i=0}^{m-1} (x_j^{(i)} - \\mu_j)^2$\n",
    "\n",
    "Since, we only have one feature, the formula reduces to:\n",
    "\n",
    "$ x{(i)} = \\frac{x{(i)} - \\mu }{\\sigma}$"
   ]
  },
  {
   "cell_type": "code",
   "execution_count": 11,
   "id": "320eb04c-a454-4b78-898e-47e6e2e45fd3",
   "metadata": {},
   "outputs": [],
   "source": [
    "def normalize_feature(X):\n",
    "    \"\"\"\n",
    "    Normalizes the features in the dataset using z-score standardization.\n",
    "\n",
    "    Parameters:\n",
    "    X (numpy.ndarray): A 1D array where each row is a data sample and each column is a feature.\n",
    "\n",
    "    Returns:\n",
    "    X_norm (numpy.ndaary): The normalized dataset with zero mean and unit variance for each feature.\n",
    "    \"\"\"\n",
    "\n",
    "\n",
    "    # Calculate the mean of each feature (column-wise)\n",
    "    mu = np.mean(X, axis=0)\n",
    "\n",
    "    # Calculate the standard deviation of each feature (column-wise)\n",
    "    sigma = np.std(X, axis=0)\n",
    "\n",
    "    # Apply z-score normalization: (X - mean) / standard deviation\n",
    "    X_norm = (X - mu) / sigma\n",
    "\n",
    "    # Return the normalized features\n",
    "    return X_norm"
   ]
  },
  {
   "cell_type": "code",
   "execution_count": 12,
   "id": "3a1bff0d-65e9-48f6-a7ce-1dfd7bd1b514",
   "metadata": {},
   "outputs": [],
   "source": [
    "X_train = normalize_feature(X=X_train)"
   ]
  },
  {
   "cell_type": "code",
   "execution_count": null,
   "id": "b8941ca2-c930-4e81-b4e3-b2d5c3d2a802",
   "metadata": {},
   "outputs": [],
   "source": []
  },
  {
   "cell_type": "code",
   "execution_count": 13,
   "id": "b8d9a0e2-da65-4836-9334-887913a1c8e9",
   "metadata": {},
   "outputs": [],
   "source": [
    "X_test = normalize_feature(X=X_test)"
   ]
  },
  {
   "cell_type": "markdown",
   "id": "c32d6970-4938-4711-a891-05bf677fa0dc",
   "metadata": {},
   "source": [
    "### Reshaping input feature ndarry suitable for vectorisation"
   ]
  },
  {
   "cell_type": "code",
   "execution_count": 14,
   "id": "417bca1d-f2a1-4031-bc3c-5dca3ae75554",
   "metadata": {},
   "outputs": [],
   "source": [
    "X_train = np.expand_dims(X_train, axis=1)\n",
    "X_test = np.expand_dims(X_test, axis=1)"
   ]
  },
  {
   "cell_type": "code",
   "execution_count": null,
   "id": "843622bf-cb45-434c-a674-f6e2878d230f",
   "metadata": {},
   "outputs": [],
   "source": []
  },
  {
   "cell_type": "markdown",
   "id": "aa1e6df0-a343-4ad6-acbf-a688a19c9d85",
   "metadata": {},
   "source": [
    "## Linear Regression with one variable Intuition\n",
    "\n",
    "The Goal is to implement the model $f_{w,b}$ for linear regression with one variable\n",
    "\n",
    "We will use $(x^{(i)}, y^{(i)})$ to denote the $i^{(th)}$ training example. \n",
    "\n",
    "Since, python is zero indexed\n",
    "$x^{(0)}, y^{(0)}$ is (24.0, 21.549452) and $x^{(1)}, y^{(1)}$ is (50.0,\t47.464463)\n",
    "\n"
   ]
  },
  {
   "cell_type": "markdown",
   "id": "e56e709e-e511-4365-84a9-96d8c51cb042",
   "metadata": {},
   "source": [
    "The model function for linear regression is represented as\n",
    "\n",
    "$$f_{w,b}(x^{(i)}) = wx^{(i)} + b$$\n",
    "\n",
    "Here,  \n",
    "\n",
    "$f_{w,b}(x^{(i)})$ represents the model,   $w$ is the weight parameter,  $b$ is the bias parameter, and   $x^{(i)}$ is the input feature."
   ]
  },
  {
   "cell_type": "markdown",
   "id": "ed062baf-f0b1-4dd1-b693-a26bfaae22c4",
   "metadata": {},
   "source": [
    "## How are we going to find the value of $ w, b $ such that  $\\hat{y}^{(i)}$ is close to $y ^{(i)}$ for all $(x^{(i)}, y^{(i)})$\n",
    "\n",
    "where, $\\hat y ^{(i)}$ is the output of our model $f_{w,b}(x^{(i)}) = wx^{(i)} + b$. Also, reffered to as prediction.\n",
    "\n",
    "**Even if we estimate the values for $w$ and $b$, we need a way to see how close our predictions are to the actual output** "
   ]
  },
  {
   "cell_type": "markdown",
   "id": "b3038308-92c8-430e-8855-d8cb20f7a4f3",
   "metadata": {},
   "source": [
    "To see how close our prediction $\\hat{y}^{(i)}$ is to $y ^{(i)}$. We are going to use **Cost Function.**\n",
    "\n",
    "Also called, squared error cost function.\n",
    "\n",
    "This is the most common cost function used for regression models.\n",
    "\n",
    "$$ J(w,b) = \\frac{1}{2m} \\sum_{i=1}^{m} (\\hat{y}^{(i)} - y^{(i)})^2$$ \n",
    "\n",
    "where, \n",
    "\n",
    "\n",
    "$m$ = number of training examples \n",
    "\n",
    "Eventually, we want to use the values of $w$ and $ b$ such that our cost function is minimised."
   ]
  },
  {
   "cell_type": "markdown",
   "id": "c29b935a-21c4-4834-b098-90898b1efa89",
   "metadata": {},
   "source": [
    "**Model**: \n",
    "\n",
    "$f_{w,b}(x^{(i)}) = wx^{(i)} + b$\n",
    "\n",
    "**Parameters:** \n",
    "\n",
    "$ w, b $\n",
    "\n",
    "**Cost Function**\n",
    "\n",
    "$ J(w,b) = \\frac{1}{2m} \\sum_{i=1}^{m} (\\hat{y}^{(i)} - y^{(i)})^2$ \n",
    "\n",
    "\n",
    "**Goal**\n",
    "\n",
    "$minimize$  $J(w,b)$"
   ]
  },
  {
   "cell_type": "markdown",
   "id": "a988090a-c788-4a32-b9b0-19fda3009e98",
   "metadata": {},
   "source": [
    "#### We will use **Gradient Descent** to minimise our cost function. \n",
    "\n",
    "**Top Level Decomposition of Gradient Descent Algorithm**\n",
    "\n",
    "\n",
    "- Start with some random value of $w$, $b$. Commonly we set $w=0$ and $b=0$.\n",
    "\n",
    "- Keep changing $w$, $b$ to reduce $J(w,b)$.\n",
    "\n",
    "- Until we setle at or near minimum.\n"
   ]
  },
  {
   "cell_type": "markdown",
   "id": "3fddb4a3-2518-4c79-b848-9b89beffab87",
   "metadata": {},
   "source": [
    "## Gradient Descent Algorithm"
   ]
  },
  {
   "cell_type": "markdown",
   "id": "07088b53-165a-4c85-9ab8-4e85c469ab0c",
   "metadata": {},
   "source": [
    "\n",
    "\n",
    "$$\\begin{align*} \\text{repeat}&\\text{ until convergence:} \\; \\lbrace \\newline\n",
    "\\;  w &= w -  \\alpha \\frac{\\partial J(w,b)}{\\partial w} \\tag{3}  \\; \\newline \n",
    " b &= b -  \\alpha \\frac{\\partial J(w,b)}{\\partial b}  \\newline \\rbrace\n",
    "\\end{align*}$$\n",
    "where, parameters $w$, $b$ are updated simultaneously.  "
   ]
  },
  {
   "cell_type": "markdown",
   "id": "98fc888d-2752-442e-8e07-d4d55bdf8d06",
   "metadata": {},
   "source": [
    "The gradient(the partial deravitive part) is defined as:\n",
    "$$\n",
    "\\begin{align}\n",
    "\\frac{\\partial J(w,b)}{\\partial w}  &= \\frac{1}{m} \\sum\\limits_{i = 0}^{m-1} (f_{w,b}(x^{(i)}) - y^{(i)})x^{(i)} \\\\\n",
    "  \\frac{\\partial J(w,b)}{\\partial b}  &= \\frac{1}{m} \\sum\\limits_{i = 0}^{m-1} (f_{w,b}(x^{(i)}) - y^{(i)}) \\\\\n",
    "\\end{align}\n",
    "$$\n",
    "\n",
    "Here *simultaniously* means that you calculate the partial derivatives for all the parameters before updating any of the parameters."
   ]
  },
  {
   "cell_type": "markdown",
   "id": "4ea11bb3-a707-4d57-b1c3-984bf733f10c",
   "metadata": {},
   "source": [
    "### Final Linear Regression Algorithm with Gradient Descent\n",
    "\n",
    "repeat until convergence {\n",
    "\n",
    "$ w = w - \\alpha \\times \\frac{1}{m} \\sum_{i=1}^{m} (\\hat{y}^{(i)} - y^{(i)}) x^{(i)}   $\n",
    "\n",
    "\n",
    "\n",
    "$ b = b - \\alpha \\times \\frac{1}{m} \\sum_{i=1}^{m} (\\hat{y}^{(i)} - y^{(i)})  $\n",
    "\n",
    "}\n"
   ]
  },
  {
   "cell_type": "markdown",
   "id": "1dcbe83f-6e31-415c-b67f-b9a93a789d66",
   "metadata": {},
   "source": [
    "## Model Implementation"
   ]
  },
  {
   "cell_type": "code",
   "execution_count": 15,
   "id": "45ef2f2e-50ad-4360-b998-d2b94dae0372",
   "metadata": {},
   "outputs": [],
   "source": [
    "import numpy as np\n",
    "import pickle\n",
    "import matplotlib.pyplot as plt\n",
    "\n",
    "class SimpleLinearRegression:\n",
    "    \"\"\"\n",
    "    A simple implementation of Linear Regression using Gradient Descent.\n",
    "    \"\"\"\n",
    "    \n",
    "    def __init__(self, alpha: float, until_convergence: float = 1e-6):\n",
    "        \"\"\"\n",
    "        Initializes the linear regression model with learning rate and convergence tolerance.\n",
    "\n",
    "        Parameters:\n",
    "            alpha (float): The learning rate for gradient descent.\n",
    "            until_convergence (float, optional): The tolerance for convergence. Default is 1e-6.\n",
    "        \"\"\"\n",
    "        self.learning_rate = alpha\n",
    "        self.until_convergence = until_convergence\n",
    "        self.w = None  # Weight parameters (initialized later)\n",
    "        self.b = None  # Bias parameter (initialized later)\n",
    "        \n",
    "\n",
    "    def _initialize_parameters(self, n_features: int):\n",
    "        \"\"\"\n",
    "        Initializes the model's weights and bias with small random values and zero.\n",
    "\n",
    "        Parameters:\n",
    "            n_features (int): The number of features in the dataset.\n",
    "        \"\"\"\n",
    "        # Initialize weights with small random values to avoid slow convergence\n",
    "        self.w = np.random.randn(n_features) * 0.01\n",
    "        # Initialize bias to zero\n",
    "        self.b = 0\n",
    "\n",
    "    def predict_values(self, X: np.ndarray) -> np.ndarray:\n",
    "        \"\"\"\n",
    "        Makes predictions using the trained model.\n",
    "\n",
    "        Parameters:\n",
    "            X (np.ndarray): The input features.\n",
    "\n",
    "        Returns:\n",
    "            np.ndarray: The predicted values based on the model.\n",
    "        \"\"\"\n",
    "        return np.dot(X, self.w) + self.b\n",
    "\n",
    "    def calculate_cost(self, predictions: np.ndarray) -> float:\n",
    "        \"\"\"\n",
    "        Computes the cost (mean squared error) between predictions and true values.\n",
    "\n",
    "        Parameters:\n",
    "            predictions (np.ndarray): The predicted values.\n",
    "\n",
    "        Returns:\n",
    "            float: The computed cost (MSE).\n",
    "        \"\"\"\n",
    "        m = len(predictions)\n",
    "        # Compute the mean squared error cost\n",
    "        cost = np.sum(np.square(predictions - self.y)) / (2 * m)\n",
    "        return cost\n",
    "\n",
    "    def calculate_gradients(self, predictions: np.ndarray) -> None:\n",
    "        \"\"\"\n",
    "        Computes the gradients of the cost function with respect to weights and bias.\n",
    "\n",
    "        Parameters:\n",
    "            predictions (np.ndarray): The predicted values.\n",
    "        \"\"\"\n",
    "        m = len(predictions)\n",
    "        # Compute gradients for weights and bias\n",
    "        self.dw = np.dot(predictions - self.y, self.X) / m\n",
    "        self.db = np.sum(predictions - self.y) / m \n",
    "\n",
    "    def plot_cost_history(self, cost_history: list) -> None:\n",
    "        \"\"\"\n",
    "        Plots the cost function history to visualize the convergence of gradient descent.\n",
    "\n",
    "        Parameters:\n",
    "            cost_history (list): The list of cost values for each iteration.\n",
    "        \"\"\"\n",
    "        fig, ax = plt.subplots(1, 1, figsize=(6, 5))\n",
    "        ax.plot([x for x in range(len(cost_history))], cost_history)\n",
    "        ax.set_xlabel('Number of Iterations')\n",
    "        ax.set_ylabel('Cost')\n",
    "        ax.set_title('Cost vs. Iterations')\n",
    "\n",
    "    def train(self, X: np.ndarray, y: np.ndarray, num_of_iter: int) -> None:\n",
    "        \"\"\"\n",
    "        Trains the linear regression model using gradient descent.\n",
    "\n",
    "        Parameters:\n",
    "            X (np.ndarray): The input feature matrix.\n",
    "            y (np.ndarray): The true target values.\n",
    "            num_of_iter (int): The number of iterations for gradient descent.\n",
    "        \"\"\"\n",
    "        self.X = X\n",
    "        self.y = y\n",
    "        # Initialize parameters (weights and bias)\n",
    "        self._initialize_parameters(n_features=X.shape[1])\n",
    "        cost_history = []\n",
    "\n",
    "        for i in range(num_of_iter):\n",
    "            # Make predictions\n",
    "            predictions = self.predict_values(X)\n",
    "            # Compute the cost (mean squared error)\n",
    "            cost = self.calculate_cost(predictions)\n",
    "            # Compute gradients for weights and bias\n",
    "            self.calculate_gradients(predictions)\n",
    "            # Update weights and bias using gradient descent\n",
    "            self.w -= self.learning_rate * self.dw\n",
    "            self.b -= self.learning_rate * self.db\n",
    "            cost_history.append(cost)\n",
    "\n",
    "            # Print cost every 100 iterations\n",
    "            if i % 100 == 0:\n",
    "                print(f'Iteration: {i}, Cost: {cost}')\n",
    "\n",
    "            # Check for convergence\n",
    "            if i > 0 and abs(cost_history[-1] - cost_history[-2]) < self.until_convergence:\n",
    "                print(f'Converged after {i} iterations.')\n",
    "                break\n",
    "                \n",
    "        # Plot the cost history to visualize convergence\n",
    "        self.plot_cost_history(cost_history)\n",
    "\n",
    "    def save(self, filename: str) -> None:\n",
    "        \"\"\"\n",
    "        Saves the trained model's parameters (weights and bias) to a file using pickle.\n",
    "\n",
    "        Parameters:\n",
    "            filename (str): The name of the file to save the model to.\n",
    "                Raises an error if None is provided.\n",
    "        \"\"\"\n",
    "        if filename is None:\n",
    "            raise ValueError(\"Filename must be provided to save the model.\")\n",
    "\n",
    "        model_data = {\n",
    "            'alpha': self.learning_rate,\n",
    "            'until_convergence': self.until_convergence,\n",
    "            'w': self.w,  # Use correct variable 'w' instead of 'W'\n",
    "            'b': self.b   # Use correct variable 'b' instead of 'B'\n",
    "        }\n",
    "\n",
    "        try:\n",
    "            # Save model data to file\n",
    "            with open(filename, 'wb') as file:\n",
    "                pickle.dump(model_data, file)\n",
    "        except Exception as e:\n",
    "            print(f\"An error occurred while saving the model: {e}\")\n",
    "\n",
    "    @classmethod\n",
    "    def load(cls, filename: str) -> 'SimpleLinearRegression':\n",
    "        \"\"\"\n",
    "        Loads a trained model from a file using pickle.\n",
    "\n",
    "        Parameters:\n",
    "            filename (str): The name of the file to load the model from.\n",
    "\n",
    "        Returns:\n",
    "            SimpleLinearRegression: An instance of the SimpleLinearRegression class with loaded parameters.\n",
    "        \"\"\"\n",
    "        # Load model data from file\n",
    "        model_data = cls._load_model_data(filename)\n",
    "        \n",
    "        # Create a new model instance and initialize it with the loaded parameters\n",
    "        loaded_model = cls(model_data['alpha'], model_data['until_convergence'])\n",
    "        loaded_model.w = model_data['w']\n",
    "        loaded_model.b = model_data['b']\n",
    "\n",
    "        return loaded_model\n",
    "\n",
    "    @staticmethod\n",
    "    def _load_model_data(filename: str) -> dict:\n",
    "        \"\"\"\n",
    "        Helper method to load model data from a file.\n",
    "\n",
    "        Parameters:\n",
    "            filename (str): The name of the file to load the model from.\n",
    "\n",
    "        Returns:\n",
    "            dict: A dictionary containing the model parameters.\n",
    "        \"\"\"\n",
    "        try:\n",
    "            with open(filename, 'rb') as file:\n",
    "                return pickle.load(file)\n",
    "        except FileNotFoundError:\n",
    "            print(f\"File '{filename}' not found.\")\n",
    "            raise\n",
    "        except pickle.UnpicklingError:\n",
    "            print(f\"Error occurred while unpickling the file '{filename}'.\")\n",
    "            raise\n",
    "        except Exception as e:\n",
    "            print(f\"An error occurred while loading the model: {e}\")\n",
    "            raise"
   ]
  },
  {
   "cell_type": "code",
   "execution_count": 16,
   "id": "56e43f2f-9c30-4d2b-953d-de94a45b9bd3",
   "metadata": {},
   "outputs": [],
   "source": [
    "# Initialise the Class\n",
    "lr = SimpleLinearRegression(0.01)"
   ]
  },
  {
   "cell_type": "code",
   "execution_count": 17,
   "id": "353180c5-233a-4ffc-a133-b940d2713298",
   "metadata": {},
   "outputs": [
    {
     "name": "stdout",
     "output_type": "stream",
     "text": [
      "Iteration: 0, Cost: 1670.3152514070416\n",
      "Iteration: 100, Cost: 227.19511118400638\n",
      "Iteration: 200, Cost: 33.84634401594785\n",
      "Iteration: 300, Cost: 7.941539056583547\n",
      "Iteration: 400, Cost: 4.470821710868952\n",
      "Iteration: 500, Cost: 4.005816129366224\n",
      "Iteration: 600, Cost: 3.9435148327493477\n",
      "Iteration: 700, Cost: 3.93516772528539\n",
      "Iteration: 800, Cost: 3.9340493825413643\n",
      "Converged after 863 iterations.\n"
     ]
    },
    {
     "data": {
      "image/png": "[encoded data removed]",
      "text/plain": [
       "<Figure size 600x500 with 1 Axes>"
      ]
     },
     "metadata": {},
     "output_type": "display_data"
    }
   ],
   "source": [
    "# Training the model\n",
    "lr.train(X_train, y_train, 10000)"
   ]
  },
  {
   "cell_type": "code",
   "execution_count": 18,
   "id": "e9fd8a82-eddd-4888-bfcc-fc31212d76a4",
   "metadata": {},
   "outputs": [],
   "source": [
    "lr.save(filename=\"slr_one_variable.pkl\")"
   ]
  },
  {
   "cell_type": "code",
   "execution_count": 19,
   "id": "ad7e9b42-89ad-47ac-a62d-32b8ac867bff",
   "metadata": {},
   "outputs": [],
   "source": [
    "model = SimpleLinearRegression.load(\"slr_one_variable.pkl\")"
   ]
  },
  {
   "cell_type": "markdown",
   "id": "30638055-a273-4374-89a3-e8368eb92d5b",
   "metadata": {},
   "source": [
    "## Model Evaluation"
   ]
  },
  {
   "cell_type": "markdown",
   "id": "bef55f01-0213-450a-ad22-5494d15527fd",
   "metadata": {},
   "source": [
    "The EvaluateModel class below includes three methods that allow us to calculate key performance metrics for evaluating our model: Mean Squared Error (MSE), Root Mean Squared Error (RMSE), and R-squared (R²).\n",
    "\n",
    "#### Mean Squared Error (MSE)\n",
    "\n",
    "The Mean Squared Error (MSE) measures the average squared difference between the actual and predicted values. It is defined by the following formula:\n",
    "\n",
    "\n",
    "$$ MSE = \\frac{1}{m} \\sum_{i=1}^{n} (\\hat{y}^{(i)} - y^{(i)})^2$$\n",
    "\n",
    "\n",
    "#### Root Mean Squared Error (RMSE)\n",
    "\n",
    "The Root Mean Squared Error (RMSE) is the square root of the Mean Squared Error (MSE). It provides a measure of the error in the same units as the target values, which makes it more interpretable. The formula for RMSE is:\n",
    "\n",
    "\n",
    "$$ RMSE = \\sqrt{MSE} = \\sqrt{\\frac{1}{m} \\sum_{i=1}^{n} (\\hat{y}^{(i)} - y^{(i)})^2} $$\n",
    "\n",
    "\n",
    "#### R-squared (R²)\n",
    "\n",
    "The R-squared (R²) value indicates how well the model’s predictions match the actual values. It is defined as:\n",
    "\n",
    "\n",
    "$$R^2 = 1- \\frac{RSS}{TSS} =1 - \\frac{\\sum_{i=1}^{m} (\\hat{y}^{(i)} - y^{(i)})^2}{\\sum_{i=1}^{m} ({y}^{(i)} - \\bar y)^2}$$\n",
    "\n",
    "\n",
    "Where:\n",
    "\n",
    "$\\bar{y}$  is the mean of the actual values.\n",
    "\n",
    "The numerator is the Residual Sum of Squares (RSS).\n",
    "\n",
    "The denominator is the Total Sum of Squares (TSS)."
   ]
  },
  {
   "cell_type": "code",
   "execution_count": 20,
   "id": "d98b6be0-d944-458c-a3dc-787e2bec7db2",
   "metadata": {},
   "outputs": [],
   "source": [
    "class EvaluateModel:\n",
    "    \"\"\"\n",
    "    A class to evaluate the performance of a model using different metrics.\n",
    "    \"\"\"\n",
    "\n",
    "    @staticmethod\n",
    "    def mse(y_actual, y_prediction):\n",
    "        \"\"\"\n",
    "        Calculate the Mean Squared Error (MSE) between the actual and predicted values.\n",
    "\n",
    "        Args:\n",
    "        y_actual (array-like): The actual values.\n",
    "        y_prediction (array-like): The predicted values from the model.\n",
    "\n",
    "        Returns:\n",
    "        float: The MSE value.\n",
    "        \n",
    "        Raises:\n",
    "        AssertionError: If the lengths of y_actual and y_prediction do not match.\n",
    "        ValueError: If input arrays are empty or not valid (non-numeric or non-array).\n",
    "        \"\"\"\n",
    "        # Check if inputs are valid (non-empty and numpy arrays)\n",
    "        if not isinstance(y_actual, (np.ndarray, list)) or not isinstance(y_prediction, (np.ndarray, list)):\n",
    "            raise ValueError(\"Inputs should be of type list or numpy array.\")\n",
    "        if len(y_actual) == 0 or len(y_prediction) == 0:\n",
    "            raise ValueError(\"Input arrays cannot be empty.\")\n",
    "        \n",
    "        # Ensure that both the actual and predicted values have the same length\n",
    "        if len(y_actual) != len(y_prediction):\n",
    "            raise AssertionError(\"Please ensure they are of the same length\")\n",
    "        \n",
    "        # Calculate and return the Mean Squared Error\n",
    "        return np.mean(np.square(np.array(y_actual) - np.array(y_prediction)))\n",
    "\n",
    "    @staticmethod\n",
    "    def rmse(y_actual, y_prediction):\n",
    "        \"\"\"\n",
    "        Calculate the Root Mean Squared Error (RMSE) between the actual and predicted values.\n",
    "        RMSE is simply the square root of the MSE.\n",
    "\n",
    "        Args:\n",
    "        y_actual (array-like): The actual values.\n",
    "        y_prediction (array-like): The predicted values from the model.\n",
    "\n",
    "        Returns:\n",
    "        float: The RMSE value.\n",
    "\n",
    "        Raises:\n",
    "        ValueError: If inputs are empty or not valid (non-numeric or non-array).\n",
    "        \"\"\"\n",
    "        # Calculate the Mean Squared Error first\n",
    "        mse = EvaluateModel.mse(y_actual, y_prediction)\n",
    "        \n",
    "        # Return the square root of MSE to get RMSE\n",
    "        return np.sqrt(mse)\n",
    "\n",
    "    @staticmethod\n",
    "    def rsquared(y_actual, y_prediction):\n",
    "        \"\"\"\n",
    "        Calculate the R-squared (R²) value, which indicates how well the model's predictions match the actual values.\n",
    "\n",
    "        Args:\n",
    "        y_actual (array-like): The actual values.\n",
    "        y_prediction (array-like): The predicted values from the model.\n",
    "\n",
    "        Returns:\n",
    "        float: The R-squared value (ranging from 0 to 1). \n",
    "               A higher value indicates better model performance.\n",
    "\n",
    "        Raises:\n",
    "        ValueError: If inputs are empty or not valid (non-numeric or non-array).\n",
    "        \"\"\"\n",
    "        # Check if inputs are valid (non-empty and numpy arrays)\n",
    "        if not isinstance(y_actual, (np.ndarray, list)) or not isinstance(y_prediction, (np.ndarray, list)):\n",
    "            raise ValueError(\"Inputs should be of type list or numpy array.\")\n",
    "        if len(y_actual) == 0 or len(y_prediction) == 0:\n",
    "            raise ValueError(\"Input arrays cannot be empty.\")\n",
    "        \n",
    "        # Total Sum of Squares (TSS) is the total variance in the actual values\n",
    "        tss = np.sum(np.square(np.array(y_actual) - np.mean(y_actual)))\n",
    "        \n",
    "        # Residual Sum of Squares (RSS) is the variance between the actual and predicted values\n",
    "        rss = np.sum(np.square(np.array(y_actual) - np.array(y_prediction)))\n",
    "        \n",
    "        # R-squared is 1 minus the ratio of RSS to TSS\n",
    "        r2 = 1 - (rss / tss)\n",
    "        \n",
    "        return r2"
   ]
  },
  {
   "cell_type": "code",
   "execution_count": 21,
   "id": "f451bcab-5956-4926-890d-a7bfe9e547f4",
   "metadata": {},
   "outputs": [],
   "source": [
    "y_predict = model.predict_values(X_test)"
   ]
  },
  {
   "cell_type": "code",
   "execution_count": 22,
   "id": "5c2780a0-5490-4db5-8c6b-77760db2cc56",
   "metadata": {},
   "outputs": [],
   "source": [
    "mse_output = EvaluateModel.mse(y_test, y_predict)\n",
    "rmse_output = EvaluateModel.rmse(y_test, y_predict)\n",
    "r2_output = EvaluateModel.rsquared(y_test, y_predict)"
   ]
  },
  {
   "cell_type": "code",
   "execution_count": 23,
   "id": "416f1c1c-4df9-483b-a420-03c6ff40a272",
   "metadata": {},
   "outputs": [
    {
     "name": "stdout",
     "output_type": "stream",
     "text": [
      "Mean Squared Error (MSE): 10.793376781738742\n",
      "Root Mean Squared Error (RMSE): 3.2853274999212396\n",
      "R-squared (Coefficient of Determination): 0.9871863429817639\n"
     ]
    }
   ],
   "source": [
    "print(f\"Mean Squared Error (MSE): {mse_output}\")\n",
    "print(f\"Root Mean Squared Error (RMSE): {rmse_output}\")\n",
    "print(f\"R-squared (Coefficient of Determination): {r2_output}\")"
   ]
  },
  {
   "cell_type": "markdown",
   "id": "b295ec5c-cdf8-458d-b70e-5dbc57d33432",
   "metadata": {},
   "source": [
    "## Plotting the Straight Line Fit"
   ]
  },
  {
   "cell_type": "code",
   "execution_count": 24,
   "id": "5fe4aea5-b315-45ee-af7a-d241b5bc15d5",
   "metadata": {},
   "outputs": [
    {
     "data": {
      "text/plain": [
       "Text(0.5, 1.0, 'Straight Line fit to Data')"
      ]
     },
     "execution_count": 24,
     "metadata": {},
     "output_type": "execute_result"
    },
    {
     "data": {
      "image/png": "[encoded data removed]",
      "text/plain": [
       "<Figure size 600x500 with 1 Axes>"
      ]
     },
     "metadata": {},
     "output_type": "display_data"
    }
   ],
   "source": [
    "fig, ax = plt.subplots(1,1, figsize=(6,5))\n",
    "ax.scatter(X_test, y_test)\n",
    "ax.plot(X_test, y_predict, color=\"Red\")\n",
    "ax.set_xlabel('X(Input Feature)')\n",
    "ax.set_ylabel('Y')\n",
    "\n",
    "ax.set_title('Straight Line fit to Data')"
   ]
  },
  {
   "cell_type": "markdown",
   "id": "0446872b-d082-4384-afd6-0960ba7fe02a",
   "metadata": {},
   "source": [
    "### Thank You"
   ]
  },
  {
   "cell_type": "code",
   "execution_count": null,
   "id": "bdf47c0f-f88e-4fe9-a17e-c8c11854b8ce",
   "metadata": {},
   "outputs": [],
   "source": []
  },
  {
   "cell_type": "code",
   "execution_count": null,
   "id": "88ec1deb-6fb1-4b1f-a328-dde6574b3427",
   "metadata": {},
   "outputs": [],
   "source": []
  },
  {
   "cell_type": "code",
   "execution_count": null,
   "id": "c5ad5431-feb0-46a7-ae27-1ece86f168b5",
   "metadata": {},
   "outputs": [],
   "source": []
  },
  {
   "cell_type": "code",
   "execution_count": null,
   "id": "d79416df-d6c1-493b-9b0d-16d7025cc986",
   "metadata": {},
   "outputs": [],
   "source": []
  },
  {
   "cell_type": "code",
   "execution_count": null,
   "id": "ab655ca2-dbea-4efc-9937-80251148d1e1",
   "metadata": {},
   "outputs": [],
   "source": []
  },
  {
   "cell_type": "code",
   "execution_count": null,
   "id": "7cb2657e-7027-41c1-849e-954c49cc9ca0",
   "metadata": {},
   "outputs": [],
   "source": []
  }
 ],
 "metadata": {
  "kernelspec": {
   "display_name": "Python 3 (ipykernel)",
   "language": "python",
   "name": "python3"
  },
  "language_info": {
   "codemirror_mode": {
    "name": "ipython",
    "version": 3
   },
   "file_extension": ".py",
   "mimetype": "text/x-python",
   "name": "python",
   "nbconvert_exporter": "python",
   "pygments_lexer": "ipython3",
   "version": "3.12.7"
  }
 },
 "nbformat": 4,
 "nbformat_minor": 5
}
